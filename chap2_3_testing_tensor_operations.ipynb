{
  "nbformat": 4,
  "nbformat_minor": 0,
  "metadata": {
    "colab": {
      "name": "chap2.3_testing_tensor_operations.ipynb",
      "provenance": [],
      "authorship_tag": "ABX9TyOFY8Bv8sMzwRR767i7TrUL",
      "include_colab_link": true
    },
    "kernelspec": {
      "name": "python3",
      "display_name": "Python 3"
    }
  },
  "cells": [
    {
      "cell_type": "markdown",
      "metadata": {
        "id": "view-in-github",
        "colab_type": "text"
      },
      "source": [
        "<a href=\"https://colab.research.google.com/github/marcelounb/Deep_learning_book_francois/blob/master/chap2_3_testing_tensor_operations.ipynb\" target=\"_parent\"><img src=\"https://colab.research.google.com/assets/colab-badge.svg\" alt=\"Open In Colab\"/></a>"
      ]
    },
    {
      "cell_type": "code",
      "metadata": {
        "id": "ijFZcKQXfFN4",
        "colab_type": "code",
        "colab": {}
      },
      "source": [
        "import numpy as np\n"
      ],
      "execution_count": 0,
      "outputs": []
    },
    {
      "cell_type": "code",
      "metadata": {
        "id": "4trxoy27fRJi",
        "colab_type": "code",
        "colab": {}
      },
      "source": [
        "array1 = np.array(\n",
        "    [[1, 2],\n",
        "     [3, 4],\n",
        "     [5, -1]])"
      ],
      "execution_count": 0,
      "outputs": []
    },
    {
      "cell_type": "code",
      "metadata": {
        "id": "SYzpRMSehU5O",
        "colab_type": "code",
        "colab": {
          "base_uri": "https://localhost:8080/",
          "height": 35
        },
        "outputId": "39970d02-fd29-4872-8f84-703cc2ef1b72"
      },
      "source": [
        "array1.shape"
      ],
      "execution_count": 3,
      "outputs": [
        {
          "output_type": "execute_result",
          "data": {
            "text/plain": [
              "(3, 2)"
            ]
          },
          "metadata": {
            "tags": []
          },
          "execution_count": 3
        }
      ]
    },
    {
      "cell_type": "code",
      "metadata": {
        "id": "_b3uIIzMfTBE",
        "colab_type": "code",
        "colab": {}
      },
      "source": [
        "array2 = np.array(\n",
        "    [[10,10],\n",
        "    [0, 0],\n",
        "     [1, -4]])"
      ],
      "execution_count": 0,
      "outputs": []
    },
    {
      "cell_type": "code",
      "metadata": {
        "id": "I1p5Nu3jhac2",
        "colab_type": "code",
        "colab": {
          "base_uri": "https://localhost:8080/",
          "height": 35
        },
        "outputId": "dd3b2710-166e-4a93-99bd-645ae84243be"
      },
      "source": [
        "array2.shape"
      ],
      "execution_count": 5,
      "outputs": [
        {
          "output_type": "execute_result",
          "data": {
            "text/plain": [
              "(3, 2)"
            ]
          },
          "metadata": {
            "tags": []
          },
          "execution_count": 5
        }
      ]
    },
    {
      "cell_type": "code",
      "metadata": {
        "id": "7Z0Xtvr2fiZ5",
        "colab_type": "code",
        "colab": {}
      },
      "source": [
        "# Sum of both arrays element-wise\n",
        "array3 = array1+array2"
      ],
      "execution_count": 0,
      "outputs": []
    },
    {
      "cell_type": "code",
      "metadata": {
        "id": "NOmSg3nnfkrc",
        "colab_type": "code",
        "colab": {
          "base_uri": "https://localhost:8080/",
          "height": 72
        },
        "outputId": "51ad118f-8dc9-475f-9fe2-17371a618712"
      },
      "source": [
        "array3"
      ],
      "execution_count": 7,
      "outputs": [
        {
          "output_type": "execute_result",
          "data": {
            "text/plain": [
              "array([[11, 12],\n",
              "       [ 3,  4],\n",
              "       [ 6, -5]])"
            ]
          },
          "metadata": {
            "tags": []
          },
          "execution_count": 7
        }
      ]
    },
    {
      "cell_type": "code",
      "metadata": {
        "id": "vCwJ_ulGgVAu",
        "colab_type": "code",
        "colab": {}
      },
      "source": [
        "# Implementing by hand Summing arrays element-wise\n",
        "def naive_add(x, y):\n",
        "  assert len(x.shape)==2\n",
        "  assert x.shape == y.shape\n",
        "\n",
        "  x = x.copy()\n",
        "  for i in range(x.shape[0]):\n",
        "    for j in range(x.shape[1]):\n",
        "      x[i,j] += y[i,j]\n",
        "  return x"
      ],
      "execution_count": 0,
      "outputs": []
    },
    {
      "cell_type": "code",
      "metadata": {
        "id": "KwDuBt_fh6ID",
        "colab_type": "code",
        "colab": {
          "base_uri": "https://localhost:8080/",
          "height": 72
        },
        "outputId": "265789d0-4d21-43e0-bce1-fa3de253ba46"
      },
      "source": [
        "array4 = naive_add(array1, array2)\n",
        "array4"
      ],
      "execution_count": 9,
      "outputs": [
        {
          "output_type": "execute_result",
          "data": {
            "text/plain": [
              "array([[11, 12],\n",
              "       [ 3,  4],\n",
              "       [ 6, -5]])"
            ]
          },
          "metadata": {
            "tags": []
          },
          "execution_count": 9
        }
      ]
    },
    {
      "cell_type": "code",
      "metadata": {
        "id": "opB_atlKfl-u",
        "colab_type": "code",
        "colab": {
          "base_uri": "https://localhost:8080/",
          "height": 72
        },
        "outputId": "f91473c5-a501-4657-f431-a5d7876c9095"
      },
      "source": [
        "# Relu function\n",
        "array5 = np.maximum(array3, 0)\n",
        "array5"
      ],
      "execution_count": 10,
      "outputs": [
        {
          "output_type": "execute_result",
          "data": {
            "text/plain": [
              "array([[11, 12],\n",
              "       [ 3,  4],\n",
              "       [ 6,  0]])"
            ]
          },
          "metadata": {
            "tags": []
          },
          "execution_count": 10
        }
      ]
    },
    {
      "cell_type": "code",
      "metadata": {
        "id": "iFKVoeSHiAVZ",
        "colab_type": "code",
        "colab": {}
      },
      "source": [
        "# Implementing by hand relu arrays element-wise\n",
        "def naive_relu(x):\n",
        "  assert len(x.shape)==2\n",
        "\n",
        "  x = x.copy()\n",
        "  for i in range(x.shape[0]):\n",
        "    for j in range(x.shape[1]):\n",
        "      x[i,j] = max(x[i, j], 0)\n",
        "  return x"
      ],
      "execution_count": 0,
      "outputs": []
    },
    {
      "cell_type": "code",
      "metadata": {
        "id": "qLl4s67rjWsP",
        "colab_type": "code",
        "colab": {
          "base_uri": "https://localhost:8080/",
          "height": 72
        },
        "outputId": "acff4d35-1b35-40ce-e6b4-5ea2b51a2c5d"
      },
      "source": [
        "array6 = naive_relu(array3)\n",
        "array6"
      ],
      "execution_count": 13,
      "outputs": [
        {
          "output_type": "execute_result",
          "data": {
            "text/plain": [
              "array([[11, 12],\n",
              "       [ 3,  4],\n",
              "       [ 6,  0]])"
            ]
          },
          "metadata": {
            "tags": []
          },
          "execution_count": 13
        }
      ]
    },
    {
      "cell_type": "markdown",
      "metadata": {
        "id": "bprhQm3Pnruy",
        "colab_type": "text"
      },
      "source": [
        "numpy dot operations"
      ]
    },
    {
      "cell_type": "code",
      "metadata": {
        "id": "Wy9OjVA8nqFm",
        "colab_type": "code",
        "colab": {
          "base_uri": "https://localhost:8080/",
          "height": 53
        },
        "outputId": "2f13c80c-bc2d-4a6c-f54b-8d035fb1b463"
      },
      "source": [
        "a = np.array([[1,2],[3,4]]) \n",
        "b = np.array([[11,12],[13,14]]) \n",
        "np.dot(a,b)"
      ],
      "execution_count": 28,
      "outputs": [
        {
          "output_type": "execute_result",
          "data": {
            "text/plain": [
              "array([[37, 40],\n",
              "       [85, 92]])"
            ]
          },
          "metadata": {
            "tags": []
          },
          "execution_count": 28
        }
      ]
    },
    {
      "cell_type": "code",
      "metadata": {
        "id": "ZQbkp4xTnu_-",
        "colab_type": "code",
        "colab": {}
      },
      "source": [
        "# [[1*11+2*13, 1*12+2*14],[3*11+4*13, 3*12+4*14]]"
      ],
      "execution_count": 0,
      "outputs": []
    },
    {
      "cell_type": "code",
      "metadata": {
        "id": "nGcnV073k8i5",
        "colab_type": "code",
        "colab": {}
      },
      "source": [
        "array10 = np.array([[0,1,2],\n",
        "           [10,20,30],\n",
        "           [100,200,300]\n",
        "           ])"
      ],
      "execution_count": 0,
      "outputs": []
    },
    {
      "cell_type": "code",
      "metadata": {
        "id": "NRm4QBiKlTHM",
        "colab_type": "code",
        "colab": {}
      },
      "source": [
        "array20 = np.array([[3,4,5],\n",
        "           [100,0,11],\n",
        "           [15,100,2000]\n",
        "           ])"
      ],
      "execution_count": 0,
      "outputs": []
    },
    {
      "cell_type": "code",
      "metadata": {
        "id": "ZVBXxYTylTy_",
        "colab_type": "code",
        "colab": {
          "base_uri": "https://localhost:8080/",
          "height": 72
        },
        "outputId": "c6375d82-d738-42ee-8a83-ee011758c74e"
      },
      "source": [
        "array7 = np.dot(array10, array20)\n",
        "array7"
      ],
      "execution_count": 31,
      "outputs": [
        {
          "output_type": "execute_result",
          "data": {
            "text/plain": [
              "array([[   130,    200,   4011],\n",
              "       [  2480,   3040,  60270],\n",
              "       [ 24800,  30400, 602700]])"
            ]
          },
          "metadata": {
            "tags": []
          },
          "execution_count": 31
        }
      ]
    },
    {
      "cell_type": "code",
      "metadata": {
        "id": "FF2JX3-JlbrQ",
        "colab_type": "code",
        "colab": {}
      },
      "source": [
        "# array7 = ([[0*3+1*100+2*15, 0*4+1*0+2*100 ,0*5+1*11+2*2000 ],\n",
        "#            [ 10*3+20*100+30*15, 10*4+20*0+30*100 , 10*5+20*11+30*2000 ]\n",
        "#            [ 100*3+200*100+300*15, 100*4+200*0+300*100 , 100*5+200*11+300*2000 ]\n",
        "# ])"
      ],
      "execution_count": 0,
      "outputs": []
    },
    {
      "cell_type": "code",
      "metadata": {
        "id": "TdQmuwobk9sm",
        "colab_type": "code",
        "colab": {}
      },
      "source": [
        ""
      ],
      "execution_count": 0,
      "outputs": []
    }
  ]
}